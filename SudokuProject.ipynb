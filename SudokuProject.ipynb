{
  "nbformat": 4,
  "nbformat_minor": 0,
  "metadata": {
    "colab": {
      "provenance": []
    },
    "kernelspec": {
      "name": "python3",
      "display_name": "Python 3"
    },
    "language_info": {
      "name": "python"
    }
  },
  "cells": [
    {
      "cell_type": "markdown",
      "source": [
        "# ***Introduction: Sudoku Puzzle Project***\n",
        "We are using backtracking algorithm for solving and generating standard 9x9 Sudokus puzzles.\n",
        "\n",
        "**Backtracking:** A technique that considers searching every possible combination of solution using brute force. (Google definition)"
      ],
      "metadata": {
        "id": "PLnlFACnFI5X"
      }
    },
    {
      "cell_type": "markdown",
      "source": [
        "Importing necessary libraries"
      ],
      "metadata": {
        "id": "TksGB2PfGQVc"
      }
    },
    {
      "cell_type": "code",
      "source": [
        "import numpy as np\n",
        "import random"
      ],
      "metadata": {
        "id": "jm-kKG_5GOR7"
      },
      "execution_count": null,
      "outputs": []
    },
    {
      "cell_type": "markdown",
      "source": [
        "Sudoku Input"
      ],
      "metadata": {
        "id": "IbSshFnWGfcT"
      }
    },
    {
      "cell_type": "code",
      "source": [],
      "metadata": {
        "id": "IcGqyo4mGPYC"
      },
      "execution_count": null,
      "outputs": []
    },
    {
      "cell_type": "markdown",
      "source": [
        "Checking if the number is not repeated in the row, column, and subgrid"
      ],
      "metadata": {
        "id": "kEzlqBLhGrvr"
      }
    },
    {
      "cell_type": "code",
      "source": [
        "class SudokuSolver:\n",
        "    def __init__(self, board=None, size=9):\n",
        "        self.size = size\n",
        "        self.board = board if board is not None else [[0]*size for _ in range(size)]\n",
        "        self.subgrid_size = int(size**0.5)\n",
        "\n",
        "    def is_valid(self, row, col, num):\n",
        "        # Check if the number is not repeated in the row, column, and subgrid\n",
        "        for x in range(self.size):\n",
        "            if self.board[row][x] == num or self.board[x][col] == num:\n",
        "                return False\n",
        "        start_row, start_col = row - row % self.subgrid_size, col - col % self.subgrid_size\n",
        "        for i in range(start_row, start_row + self.subgrid_size):\n",
        "            for j in range(start_col, start_col + self.subgrid_size):\n",
        "                if self.board[i][j] == num:\n",
        "                    return False\n",
        "        return True\n",
        "\n",
        "\n",
        "    def can_place(self, r, c, value):\n",
        "    # Avoid duplication in the specific row and column\n",
        "        if value in self.board[r] or value in [self.board[i][c] for i in range(self.size)]:\n",
        "           return False\n",
        "\n",
        "    # Determine the subgrid's starting point\n",
        "        subgrid_row_start = (r // self.subgrid_size) * self.subgrid_size\n",
        "        subgrid_col_start = (c // self.subgrid_size) * self.subgrid_size\n",
        "\n",
        "    # Check for value within the subgrid\n",
        "        for row in range(subgrid_row_start, subgrid_row_start + self.subgrid_size):\n",
        "           for col in range(subgrid_col_start, subgrid_col_start + self.subgrid_size):\n",
        "               if self.board[row][col] == value:\n",
        "                   return False\n",
        "\n",
        "        return True\n",
        "\n",
        "    def solve(self):\n",
        "          # Find the first empty spot\n",
        "          for i in range(self.size):\n",
        "              for j in range(self.size):\n",
        "                  if self.board[i][j] == 0:\n",
        "                      for num in range(1, self.size + 1):\n",
        "                          if self.is_valid(i, j, num):\n",
        "                              self.board[i][j] = num\n",
        "                              if self.solve():\n",
        "                                  return True\n",
        "                              self.board[i][j] = 0\n",
        "                      return False\n",
        "          return True\n",
        "\n",
        "    def validate_solution(self):\n",
        "        for i in range(self.size):\n",
        "            for j in range(self.size):\n",
        "                num = self.board[i][j]\n",
        "                if num == 0 or not self.is_valid(i, j, num):\n",
        "                    return False\n",
        "        return True\n",
        "\n",
        "    def print_board(self):\n",
        "        for row in self.board:\n",
        "            print(\" \".join(str(num) for num in row))\n",
        "\n",
        "\n",
        "    def generate_sudoku(self, clues=17):\n",
        "        # Generate a full solution first\n",
        "        self.board = [[0]*self.size for _ in range(self.size)]\n",
        "        self.solve()\n",
        "\n",
        "        # Remove elements to create a puzzle\n",
        "        attempts = self.size**2 - clues\n",
        "        while attempts > 0:\n",
        "            row, col = random.randint(0, self.size-1), random.randint(0, self.size-1)\n",
        "            if self.board[row][col] != 0:\n",
        "                backup = self.board[row][col]\n",
        "                self.board[row][col] = 0\n",
        "                copy_board = [row[:] for row in self.board]\n",
        "\n",
        "                # Check if the puzzle still has a unique solution after removal\n",
        "                solver = SudokuSolver(copy_board, self.size)\n",
        "                if solver.solve() and solver.validate_solution():\n",
        "                    attempts -= 1\n",
        "                else:\n",
        "                    self.board[row][col] = backup\n"
      ],
      "metadata": {
        "id": "fm9914p5Gs7A"
      },
      "execution_count": null,
      "outputs": []
    },
    {
      "cell_type": "markdown",
      "source": [
        "Finding the first empty spot"
      ],
      "metadata": {
        "id": "AD98E6INGtV0"
      }
    },
    {
      "cell_type": "markdown",
      "source": [
        "Checking for a valid solution"
      ],
      "metadata": {
        "id": "UvTYYqHLG5rC"
      }
    },
    {
      "cell_type": "markdown",
      "source": [
        "Unique solution"
      ],
      "metadata": {
        "id": "6qj47xSfHBdW"
      }
    },
    {
      "cell_type": "markdown",
      "source": [
        "Example usage"
      ],
      "metadata": {
        "id": "H2_KkKbVHWXI"
      }
    },
    {
      "cell_type": "code",
      "source": [
        "if __name__ == \"__main__\":\n",
        "    puzzle = [\n",
        "        [5, 3, 0, 0, 7, 0, 0, 0, 0],\n",
        "        [6, 0, 0, 1, 9, 5, 0, 0, 0],\n",
        "        [0, 9, 8, 0, 0, 0, 0, 6, 0],\n",
        "        [8, 0, 0, 0, 6, 0, 0, 0, 3],\n",
        "        [4, 0, 0, 8, 0, 3, 0, 0, 1],\n",
        "        [7, 0, 0, 0, 2, 0, 0, 0, 6],\n",
        "        [0, 6, 0, 0, 0, 0, 2, 8, 0],\n",
        "        [0, 0, 0, 4, 1, 9, 0, 0, 5],\n",
        "        [0, 0, 0, 0, 8, 0, 0, 7, 9]\n",
        "    ]\n",
        "    solver = SudokuSolver(puzzle)\n",
        "    if solver.solve():\n",
        "        print(\"Sudoku solved:\")\n",
        "        solver.print_board()\n",
        "    else:\n",
        "        print(\"No solution exists.\")\n",
        "\n",
        "    # Generate a new Sudoku puzzle\n",
        "    generator = SudokuSolver()\n",
        "    generator.generate_sudoku(clues=2)  # Adjust the number of clues for difficulty\n",
        "    print(\"Generated Sudoku puzzle:\")\n",
        "    generator.print_board()"
      ],
      "metadata": {
        "colab": {
          "base_uri": "https://localhost:8080/",
          "height": 543
        },
        "id": "jYpS15gLHBn5",
        "outputId": "8255e76c-03de-4bab-c2f3-5a9889799c98"
      },
      "execution_count": null,
      "outputs": [
        {
          "output_type": "stream",
          "name": "stdout",
          "text": [
            "Sudoku solved:\n",
            "5 3 4 6 7 8 9 1 2\n",
            "6 7 2 1 9 5 3 4 8\n",
            "1 9 8 3 4 2 5 6 7\n",
            "8 5 9 7 6 1 4 2 3\n",
            "4 2 6 8 5 3 7 9 1\n",
            "7 1 3 9 2 4 8 5 6\n",
            "9 6 1 5 3 7 2 8 4\n",
            "2 8 7 4 1 9 6 3 5\n",
            "3 4 5 2 8 6 1 7 9\n"
          ]
        },
        {
          "output_type": "error",
          "ename": "KeyboardInterrupt",
          "evalue": "",
          "traceback": [
            "\u001b[0;31m---------------------------------------------------------------------------\u001b[0m",
            "\u001b[0;31mKeyboardInterrupt\u001b[0m                         Traceback (most recent call last)",
            "\u001b[0;32m<ipython-input-17-6ffbb86989a9>\u001b[0m in \u001b[0;36m<cell line: 1>\u001b[0;34m()\u001b[0m\n\u001b[1;32m     20\u001b[0m     \u001b[0;31m# Generate a new Sudoku puzzle\u001b[0m\u001b[0;34m\u001b[0m\u001b[0;34m\u001b[0m\u001b[0m\n\u001b[1;32m     21\u001b[0m     \u001b[0mgenerator\u001b[0m \u001b[0;34m=\u001b[0m \u001b[0mSudokuSolver\u001b[0m\u001b[0;34m(\u001b[0m\u001b[0;34m)\u001b[0m\u001b[0;34m\u001b[0m\u001b[0;34m\u001b[0m\u001b[0m\n\u001b[0;32m---> 22\u001b[0;31m     \u001b[0mgenerator\u001b[0m\u001b[0;34m.\u001b[0m\u001b[0mgenerate_sudoku\u001b[0m\u001b[0;34m(\u001b[0m\u001b[0mclues\u001b[0m\u001b[0;34m=\u001b[0m\u001b[0;36m2\u001b[0m\u001b[0;34m)\u001b[0m  \u001b[0;31m# Adjust the number of clues for difficulty\u001b[0m\u001b[0;34m\u001b[0m\u001b[0;34m\u001b[0m\u001b[0m\n\u001b[0m\u001b[1;32m     23\u001b[0m     \u001b[0mprint\u001b[0m\u001b[0;34m(\u001b[0m\u001b[0;34m\"Generated Sudoku puzzle:\"\u001b[0m\u001b[0;34m)\u001b[0m\u001b[0;34m\u001b[0m\u001b[0;34m\u001b[0m\u001b[0m\n\u001b[1;32m     24\u001b[0m     \u001b[0mgenerator\u001b[0m\u001b[0;34m.\u001b[0m\u001b[0mprint_board\u001b[0m\u001b[0;34m(\u001b[0m\u001b[0;34m)\u001b[0m\u001b[0;34m\u001b[0m\u001b[0;34m\u001b[0m\u001b[0m\n",
            "\u001b[0;32m<ipython-input-14-38675cd49bbc>\u001b[0m in \u001b[0;36mgenerate_sudoku\u001b[0;34m(self, clues)\u001b[0m\n\u001b[1;32m     78\u001b[0m                 \u001b[0;31m# Check if the puzzle still has a unique solution after removal\u001b[0m\u001b[0;34m\u001b[0m\u001b[0;34m\u001b[0m\u001b[0m\n\u001b[1;32m     79\u001b[0m                 \u001b[0msolver\u001b[0m \u001b[0;34m=\u001b[0m \u001b[0mSudokuSolver\u001b[0m\u001b[0;34m(\u001b[0m\u001b[0mcopy_board\u001b[0m\u001b[0;34m,\u001b[0m \u001b[0mself\u001b[0m\u001b[0;34m.\u001b[0m\u001b[0msize\u001b[0m\u001b[0;34m)\u001b[0m\u001b[0;34m\u001b[0m\u001b[0;34m\u001b[0m\u001b[0m\n\u001b[0;32m---> 80\u001b[0;31m                 \u001b[0;32mif\u001b[0m \u001b[0msolver\u001b[0m\u001b[0;34m.\u001b[0m\u001b[0msolve\u001b[0m\u001b[0;34m(\u001b[0m\u001b[0;34m)\u001b[0m \u001b[0;32mand\u001b[0m \u001b[0msolver\u001b[0m\u001b[0;34m.\u001b[0m\u001b[0mvalidate_solution\u001b[0m\u001b[0;34m(\u001b[0m\u001b[0;34m)\u001b[0m\u001b[0;34m:\u001b[0m\u001b[0;34m\u001b[0m\u001b[0;34m\u001b[0m\u001b[0m\n\u001b[0m\u001b[1;32m     81\u001b[0m                     \u001b[0mattempts\u001b[0m \u001b[0;34m-=\u001b[0m \u001b[0;36m1\u001b[0m\u001b[0;34m\u001b[0m\u001b[0;34m\u001b[0m\u001b[0m\n\u001b[1;32m     82\u001b[0m                 \u001b[0;32melse\u001b[0m\u001b[0;34m:\u001b[0m\u001b[0;34m\u001b[0m\u001b[0;34m\u001b[0m\u001b[0m\n",
            "\u001b[0;32m<ipython-input-14-38675cd49bbc>\u001b[0m in \u001b[0;36msolve\u001b[0;34m(self)\u001b[0m\n\u001b[1;32m     43\u001b[0m                           \u001b[0;32mif\u001b[0m \u001b[0mself\u001b[0m\u001b[0;34m.\u001b[0m\u001b[0mis_valid\u001b[0m\u001b[0;34m(\u001b[0m\u001b[0mi\u001b[0m\u001b[0;34m,\u001b[0m \u001b[0mj\u001b[0m\u001b[0;34m,\u001b[0m \u001b[0mnum\u001b[0m\u001b[0;34m)\u001b[0m\u001b[0;34m:\u001b[0m\u001b[0;34m\u001b[0m\u001b[0;34m\u001b[0m\u001b[0m\n\u001b[1;32m     44\u001b[0m                               \u001b[0mself\u001b[0m\u001b[0;34m.\u001b[0m\u001b[0mboard\u001b[0m\u001b[0;34m[\u001b[0m\u001b[0mi\u001b[0m\u001b[0;34m]\u001b[0m\u001b[0;34m[\u001b[0m\u001b[0mj\u001b[0m\u001b[0;34m]\u001b[0m \u001b[0;34m=\u001b[0m \u001b[0mnum\u001b[0m\u001b[0;34m\u001b[0m\u001b[0;34m\u001b[0m\u001b[0m\n\u001b[0;32m---> 45\u001b[0;31m                               \u001b[0;32mif\u001b[0m \u001b[0mself\u001b[0m\u001b[0;34m.\u001b[0m\u001b[0msolve\u001b[0m\u001b[0;34m(\u001b[0m\u001b[0;34m)\u001b[0m\u001b[0;34m:\u001b[0m\u001b[0;34m\u001b[0m\u001b[0;34m\u001b[0m\u001b[0m\n\u001b[0m\u001b[1;32m     46\u001b[0m                                   \u001b[0;32mreturn\u001b[0m \u001b[0;32mTrue\u001b[0m\u001b[0;34m\u001b[0m\u001b[0;34m\u001b[0m\u001b[0m\n\u001b[1;32m     47\u001b[0m                               \u001b[0mself\u001b[0m\u001b[0;34m.\u001b[0m\u001b[0mboard\u001b[0m\u001b[0;34m[\u001b[0m\u001b[0mi\u001b[0m\u001b[0;34m]\u001b[0m\u001b[0;34m[\u001b[0m\u001b[0mj\u001b[0m\u001b[0;34m]\u001b[0m \u001b[0;34m=\u001b[0m \u001b[0;36m0\u001b[0m\u001b[0;34m\u001b[0m\u001b[0;34m\u001b[0m\u001b[0m\n",
            "\u001b[0;32m<ipython-input-14-38675cd49bbc>\u001b[0m in \u001b[0;36msolve\u001b[0;34m(self)\u001b[0m\n\u001b[1;32m     39\u001b[0m           \u001b[0;32mfor\u001b[0m \u001b[0mi\u001b[0m \u001b[0;32min\u001b[0m \u001b[0mrange\u001b[0m\u001b[0;34m(\u001b[0m\u001b[0mself\u001b[0m\u001b[0;34m.\u001b[0m\u001b[0msize\u001b[0m\u001b[0;34m)\u001b[0m\u001b[0;34m:\u001b[0m\u001b[0;34m\u001b[0m\u001b[0;34m\u001b[0m\u001b[0m\n\u001b[1;32m     40\u001b[0m               \u001b[0;32mfor\u001b[0m \u001b[0mj\u001b[0m \u001b[0;32min\u001b[0m \u001b[0mrange\u001b[0m\u001b[0;34m(\u001b[0m\u001b[0mself\u001b[0m\u001b[0;34m.\u001b[0m\u001b[0msize\u001b[0m\u001b[0;34m)\u001b[0m\u001b[0;34m:\u001b[0m\u001b[0;34m\u001b[0m\u001b[0;34m\u001b[0m\u001b[0m\n\u001b[0;32m---> 41\u001b[0;31m                   \u001b[0;32mif\u001b[0m \u001b[0mself\u001b[0m\u001b[0;34m.\u001b[0m\u001b[0mboard\u001b[0m\u001b[0;34m[\u001b[0m\u001b[0mi\u001b[0m\u001b[0;34m]\u001b[0m\u001b[0;34m[\u001b[0m\u001b[0mj\u001b[0m\u001b[0;34m]\u001b[0m \u001b[0;34m==\u001b[0m \u001b[0;36m0\u001b[0m\u001b[0;34m:\u001b[0m\u001b[0;34m\u001b[0m\u001b[0;34m\u001b[0m\u001b[0m\n\u001b[0m\u001b[1;32m     42\u001b[0m                       \u001b[0;32mfor\u001b[0m \u001b[0mnum\u001b[0m \u001b[0;32min\u001b[0m \u001b[0mrange\u001b[0m\u001b[0;34m(\u001b[0m\u001b[0;36m1\u001b[0m\u001b[0;34m,\u001b[0m \u001b[0mself\u001b[0m\u001b[0;34m.\u001b[0m\u001b[0msize\u001b[0m \u001b[0;34m+\u001b[0m \u001b[0;36m1\u001b[0m\u001b[0;34m)\u001b[0m\u001b[0;34m:\u001b[0m\u001b[0;34m\u001b[0m\u001b[0;34m\u001b[0m\u001b[0m\n\u001b[1;32m     43\u001b[0m                           \u001b[0;32mif\u001b[0m \u001b[0mself\u001b[0m\u001b[0;34m.\u001b[0m\u001b[0mis_valid\u001b[0m\u001b[0;34m(\u001b[0m\u001b[0mi\u001b[0m\u001b[0;34m,\u001b[0m \u001b[0mj\u001b[0m\u001b[0;34m,\u001b[0m \u001b[0mnum\u001b[0m\u001b[0;34m)\u001b[0m\u001b[0;34m:\u001b[0m\u001b[0;34m\u001b[0m\u001b[0;34m\u001b[0m\u001b[0m\n",
            "\u001b[0;31mKeyboardInterrupt\u001b[0m: "
          ]
        }
      ]
    },
    {
      "cell_type": "markdown",
      "source": [
        "# ***Adding Functionality***\n",
        "\n",
        "Extending 'SudokuSolver' class to handle X-Sudoku variants, where both diagonals need to contain all numbers from 1 to 9 without repetition, we can modify the is_valid method to include checks for the diagonals. This extension requires checking if the number being placed is on either of the diagonals and, if so, ensuring it doesn't repeat."
      ],
      "metadata": {
        "id": "os9WogDFKF_x"
      }
    },
    {
      "cell_type": "code",
      "source": [
        "class SudokuSolver:\n",
        "    def __init__(self, board=None, size=9, mode='standard'):\n",
        "        self.size = size\n",
        "        self.board = board if board is not None else [[0]*size for _ in range(size)]\n",
        "        self.subgrid_size = int(size**0.5)\n",
        "        self.mode = mode  # 'standard' or 'x-sudoku'\n",
        "\n",
        "    # Include previously defined methods here (is_valid, print_board, etc.)\n",
        "    def is_valid(self, row, col, num):\n",
        "        # Check if the number is not repeated in the row, column, and subgrid\n",
        "           for x in range(self.size):\n",
        "              if self.board[row][x] == num or self.board[x][col] == num:\n",
        "                 return False\n",
        "           start_row, start_col = row - row % self.subgrid_size, col - col % self.subgrid_size\n",
        "           for i in range(start_row, start_row + self.subgrid_size):\n",
        "               for j in range(start_col, start_col + self.subgrid_size):\n",
        "                   if self.board[i][j] == num:\n",
        "                      return False\n",
        "           return True\n",
        "\n",
        "    # Modified solve method to choose between standard and X-Sudoku solving\n",
        "    def solve(self):\n",
        "        if self.mode == 'x-sudoku':\n",
        "            return self.solve_x_sudoku()\n",
        "        else:\n",
        "            return self.solve_standard()\n",
        "\n",
        "    def solve_standard(self):\n",
        "        for i in range(self.size):\n",
        "            for j in range(self.size):\n",
        "                if self.board[i][j] == 0:\n",
        "                    for num in range(1, self.size + 1):\n",
        "                        if self.is_valid(i, j, num):\n",
        "                            self.board[i][j] = num\n",
        "                            if self.solve():\n",
        "                                return True\n",
        "                            self.board[i][j] = 0\n",
        "                    return False\n",
        "        return True\n",
        "\n",
        "\n",
        "    def validate_solution(self):\n",
        "           for i in range(self.size):\n",
        "               for j in range(self.size):\n",
        "                  num = self.board[i][j]\n",
        "                  if num == 0 or not self.is_valid(i, j, num):\n",
        "                    return False\n",
        "           return True\n",
        "\n",
        "    def print_board(self):\n",
        "        for row in self.board:\n",
        "            print(\" \".join(str(num) for num in row))\n",
        "\n",
        "    def solve_x_sudoku(self):\n",
        "        for i in range(self.size):\n",
        "            for j in range(self.size):\n",
        "                if self.board[i][j] == 0:\n",
        "                   for num in range(1, self.size + 1):\n",
        "                       if self.is_valid_x_sudoku(i, j, num):\n",
        "                          self.board[i][j] = num\n",
        "                          if self.solve_x_sudoku():\n",
        "                            return True\n",
        "                          self.board[i][j] = 0\n",
        "                return False\n",
        "        return True\n",
        "\n",
        "\n",
        "    def is_valid_x_sudoku(self, row, col, num):\n",
        "    # First, call the original is_valid to check rows, columns, and subgrids\n",
        "        if not self.is_valid(row, col, num):\n",
        "           return False\n",
        "\n",
        "    # Check the main diagonal if necessary\n",
        "        if row == col:\n",
        "           for i in range(self.size):\n",
        "               if self.board[i][i] == num:\n",
        "                  return False\n",
        "\n",
        "    # Check the secondary diagonal if necessary\n",
        "        if row + col == self.size - 1:\n",
        "           for i in range(self.size):\n",
        "               if self.board[i][self.size - 1 - i] == num:\n",
        "                  return False\n",
        "\n",
        "        return True\n"
      ],
      "metadata": {
        "id": "bPWEzoU9LjB8"
      },
      "execution_count": null,
      "outputs": []
    },
    {
      "cell_type": "code",
      "source": [
        "if __name__ == \"__main__\":\n",
        "    # Initialize a 9x9 X-Sudoku puzzle (for demonstration, this might not be a valid puzzle)\n",
        "    x_sudoku_puzzle = [\n",
        "        [5, 3, 0, 0, 7, 0, 0, 0, 0],  # Assume some numbers are filled in\n",
        "        [6, 0, 0, 1, 9, 5, 0, 0, 0],\n",
        "        [0, 9, 8, 0, 0, 0, 0, 6, 0],\n",
        "        [8, 0, 0, 0, 6, 0, 0, 0, 3],\n",
        "        [4, 0, 0, 8, 0, 3, 0, 0, 1],\n",
        "        [7, 0, 0, 0, 2, 0, 0, 0, 6],\n",
        "        [0, 6, 0, 0, 0, 0, 2, 8, 0],\n",
        "        [0, 0, 0, 4, 1, 9, 0, 0, 5],\n",
        "        [0, 0, 0, 0, 8, 0, 0, 7, 9]\n",
        "    ]\n",
        "\n",
        "    solver = SudokuSolver(x_sudoku_puzzle, mode='x-sudoku')\n",
        "    if solver.solve():\n",
        "        print(\"X-Sudoku solved:\")\n",
        "        solver.print_board()\n",
        "    else:\n",
        "        print(\"No solution exists.\")\n"
      ],
      "metadata": {
        "id": "z7lkwr1aNuRy"
      },
      "execution_count": null,
      "outputs": []
    }
  ]
}